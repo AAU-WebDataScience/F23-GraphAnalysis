{
 "cells": [
  {
   "cell_type": "markdown",
   "id": "f8cb13a2-2ced-49b8-8f87-192037f3fb9f",
   "metadata": {},
   "source": [
    "# Day1: Graph Analysis of the Citation Graph of COVID Scientific Literature\n",
    "\n",
    "> Pestryakova, S., Vollmers, D., Sherif, M.A. et al. \n",
    "> CovidPubGraph: A FAIR Knowledge Graph of COVID-19 Publications. Sci Data 9, 389 (2022). \n",
    "> https://doi.org/10.1038/s41597-022-01298-2"
   ]
  },
  {
   "cell_type": "markdown",
   "id": "acb6477d-2757-4ce4-8882-6bf3d70258d6",
   "metadata": {},
   "source": [
    "## BY: _______________________\n",
    "\n",
    "## Scope and purpose:  Explorative Data Analysis\n",
    "\n",
    "This notebook will show an initial analysis of some aspects of the data contained in the above citation graph.\n",
    "\n",
    "The dataset is distributed in RDF format and in multiple snapshot at different points in time.\n",
    "\n",
    "**Some snapshots** of the dataset has been loaded into a SPARQL endpoint at `http://192.225.39.123:8888/sparql`\n",
    "\n",
    "The snapshot will be analyzed by extracting data via SPARQL queries and analyzing portions of it with libraries and tools like `networkx`."
   ]
  },
  {
   "cell_type": "markdown",
   "id": "5c52d995-b775-42e4-9a0d-ccf9f15ea667",
   "metadata": {},
   "source": [
    "## Imports and Utility Functions"
   ]
  },
  {
   "cell_type": "code",
   "execution_count": null,
   "id": "08a8bfe4-63e0-4fff-b8b3-1ad6c0326b2c",
   "metadata": {
    "jupyter": {
     "source_hidden": true
    },
    "tags": []
   },
   "outputs": [],
   "source": [
    "# IF PACKAGES NEED TO BE INSTALLED\n",
    "# import sys\n",
    "\n",
    "# # Install a conda package in the current Jupyter kernel\n",
    "# !conda install --yes --prefix {sys.prefix} networkx SPARQLWrapper\n",
    "\n",
    "# print(\"Done!\")"
   ]
  },
  {
   "cell_type": "code",
   "execution_count": null,
   "id": "87e33825-327d-48e8-9477-d58dd574b136",
   "metadata": {
    "tags": []
   },
   "outputs": [],
   "source": [
    "import os\n",
    "import glob\n",
    "import string\n",
    "import numpy as np\n",
    "import pandas as pd\n",
    "from pandas import json_normalize\n",
    "\n",
    "import networkx as nx\n",
    "import matplotlib.pyplot as plt\n",
    "from SPARQLWrapper import SPARQLWrapper, JSON\n",
    "from SPARQLWrapper.SPARQLExceptions import EndPointInternalError\n",
    "\n",
    "\n",
    "pd.set_option('display.max_colwidth', None)\n",
    "pd.set_option('display.max_rows', None)\n",
    "pd.set_option('display.max_columns', None)\n",
    "\n",
    "endpoint = SPARQLWrapper('http://191.225.39.123:8888/sparql')\n",
    "endpoint.setReturnFormat(JSON)\n",
    "endpoint.setTimeout(1200)\n",
    "endpoint.method = 'POST'\n",
    "\n",
    "\n",
    "def run_query( query, endpoint, as_dataframe=False, do_print=False):\n",
    "    # Utility function \n",
    "    \n",
    "    PREFIX= \"\"\"\n",
    "    PREFIX bibo: <http://purl.org/ontology/bibo/> \n",
    "    PREFIX bibtex: <http://purl.org/net/nknouf/ns/bibtex#> \n",
    "    PREFIX cvdo: <https://covid-19ds.data.dice-research.org/ontology/> \n",
    "    PREFIX cvdr: <https://covid-19ds.data.dice-research.org/resource/> \n",
    "    PREFIX dbo: <https://dbpedia.org/ontology/> \n",
    "    PREFIX dcterms: <http://purl.org/dc/terms/> \n",
    "    PREFIX fabio: <http://purl.org/spar/fabio/> \n",
    "    PREFIX foaf: <http://xmlns.com/foaf/0.1/> \n",
    "    PREFIX its: <http://www.w3.org/2005/11/its/rdf#> \n",
    "    PREFIX nif: <http://persistence.uni-leipzig.org/nlp2rdf/ontologies/nif-core#> \n",
    "    PREFIX owl: <http://www.w3.org/2002/07/owl#> \n",
    "    PREFIX prov: <http://www.w3.org/ns/prov#> \n",
    "    PREFIX rdfs: <http://www.w3.org/2000/01/rdf-schema#> \n",
    "    PREFIX schema: <http://schema.org/> \n",
    "    PREFIX sdo: <http://salt.semanticauthoring.org/ontologies/sdo#> \n",
    "    PREFIX swc: <http://data.semanticweb.org/ns/swc/ontology#> \n",
    "    PREFIX vcard: <http://www.w3.org/2006/vcard/ns#> \n",
    "    PREFIX xsd: <http://www.w3.org/2001/XMLSchema#> \n",
    "    \n",
    "    \"\"\"\n",
    "    \n",
    "    try:\n",
    "        endpoint.setQuery(PREFIX+query)\n",
    "        results = endpoint.query().convert()\n",
    "        results = results['results']\n",
    "        if len(results['bindings']) <= 0:\n",
    "            print(\"Empty resultset\")\n",
    "            return None\n",
    "\n",
    "        if not as_dataframe:\n",
    "            if do_print:\n",
    "                for binding in results['bindings']:    \n",
    "                    print(\"; \".join([var+\": \"+ binding[var]['value']  for var in binding.keys()  ]))\n",
    "            return results['bindings']\n",
    "\n",
    "        else:\n",
    "            pdata = json_normalize(results['bindings'])\n",
    "            if do_print:\n",
    "                display(pdata)\n",
    "            return pdata\n",
    "    except EndPointInternalError  as e :\n",
    "        print(\"Could not complete request!\")\n",
    "        return None\n",
    "\n",
    "print(\"ready!\")"
   ]
  },
  {
   "cell_type": "markdown",
   "id": "f822df13-8586-45f9-8096-eb97747b4437",
   "metadata": {},
   "source": [
    "## Available snapshots\n",
    "\n",
    "```\n",
    "https://covid-19ds.data.dice-research.org/2020-09-23\n",
    "https://covid-19ds.data.dice-research.org/2020-11-14\n",
    "https://covid-19ds.data.dice-research.org/2020-12-07\n",
    "https://covid-19ds.data.dice-research.org/2021-03-11\n",
    "https://covid-19ds.data.dice-research.org/2021-11-14\n",
    "```"
   ]
  },
  {
   "cell_type": "code",
   "execution_count": null,
   "id": "c2db6c63-9d15-4dc2-afcc-3df67c49ff2e",
   "metadata": {
    "tags": []
   },
   "outputs": [],
   "source": [
    "query = \"\"\"\n",
    "\n",
    "SELECT  (COUNT(*) as ?numTriples)\n",
    "FROM <https://covid-19ds.data.dice-research.org/2020-09-23>\n",
    "WHERE {   \n",
    "?s ?p ?o\n",
    "}\n",
    "\n",
    "\"\"\"\n",
    "\n",
    "results = run_query(query, endpoint, as_dataframe=True, do_print=False)\n",
    "display(results)"
   ]
  },
  {
   "cell_type": "code",
   "execution_count": null,
   "id": "692600c2-4644-4871-896e-16c041751c76",
   "metadata": {},
   "outputs": [],
   "source": [
    "query = \"\"\"\n",
    "\n",
    "SELECT  (COUNT(*) as ?numTriples)\n",
    "FROM <https://covid-19ds.data.dice-research.org/2021-11-14>\n",
    "WHERE {   \n",
    "?s ?p ?o\n",
    "}\n",
    "\n",
    "\"\"\"\n",
    "\n",
    "results = run_query(query, endpoint, as_dataframe=True, do_print=False)\n",
    "display(results)"
   ]
  },
  {
   "cell_type": "markdown",
   "id": "9355fef3-83ea-42f7-875c-b136e108915b",
   "metadata": {},
   "source": [
    "## Exploratory Analysis\n",
    "\n",
    "### Summarize node types and their prevalence in the graph"
   ]
  },
  {
   "cell_type": "code",
   "execution_count": null,
   "id": "21860e32-d620-4791-af32-e09447897ed7",
   "metadata": {},
   "outputs": [],
   "source": [
    "query = \"\"\"\n",
    "SELECT ?c COUNT(?s)\n",
    "FROM <https://covid-19ds.data.dice-research.org/2020-09-23>\n",
    "WHERE { \n",
    "?s a ?c .\n",
    "} \n",
    "\n",
    "GROUP BY ?c\n",
    "\"\"\"\n",
    "\n",
    "results = run_query(query, endpoint, as_dataframe=True, do_print=True)"
   ]
  },
  {
   "cell_type": "markdown",
   "id": "2ecdcfb6-7257-4d06-a0ab-d681228e8a24",
   "metadata": {},
   "source": [
    "### Summarize edge types and their prevalence in the graph"
   ]
  },
  {
   "cell_type": "code",
   "execution_count": null,
   "id": "07732b94-ab35-4daa-89c3-ba3165c0e753",
   "metadata": {},
   "outputs": [],
   "source": [
    "query = \"\"\"\n",
    "\n",
    "SELECT ?p COUNT(?p)\n",
    "FROM <https://covid-19ds.data.dice-research.org/2020-09-23>\n",
    "WHERE { \n",
    "?s ?p ?o .\n",
    "} \n",
    "\n",
    "GROUP BY ?p\n",
    "\"\"\"\n",
    "\n",
    "results = run_query(query, endpoint, as_dataframe=True, do_print=True)"
   ]
  },
  {
   "cell_type": "markdown",
   "id": "0cc675b4-b915-411f-8e15-f56782a31fdd",
   "metadata": {},
   "source": [
    "### Additional analysis ...?"
   ]
  },
  {
   "cell_type": "markdown",
   "id": "d667913e-228e-4854-a5d2-4d2fd6641df8",
   "metadata": {},
   "source": [
    "1. **TODO: Run one additional query** that helps you understand the size and scope of the dataset\n",
    "\n",
    "2. **REFLECT: Is there anything interesting/surprising/unexpected** from the results of the queries above?"
   ]
  },
  {
   "cell_type": "code",
   "execution_count": null,
   "id": "1154a175-425a-469e-9e94-e5b63049ea3f",
   "metadata": {},
   "outputs": [],
   "source": []
  },
  {
   "cell_type": "markdown",
   "id": "79cf6b66-9061-4b4e-8326-b5af4a2e326b",
   "metadata": {},
   "source": [
    "### Find the errors/mismatch in the ER schema presented in the original paper\n",
    "\n",
    "1. **TODO: Select a subset of Fig1** in the original paper. **Identify any mismatch** between the schema presented there and the content of the dataset\n",
    "2. **TODO: Produce an updated schema for the subset you studied**"
   ]
  },
  {
   "cell_type": "code",
   "execution_count": null,
   "id": "e2d152d0-a392-48f5-a35c-32f319d65fc7",
   "metadata": {},
   "outputs": [],
   "source": [
    "### "
   ]
  },
  {
   "cell_type": "markdown",
   "id": "a63ef789-6da2-4d64-bd89-7cc2868ada32",
   "metadata": {},
   "source": [
    "### Find the top 20 authors with the largerst number of papers in the collection"
   ]
  },
  {
   "cell_type": "code",
   "execution_count": null,
   "id": "ab216d5a-d728-491b-9b30-906c1c842b63",
   "metadata": {},
   "outputs": [],
   "source": [
    "query = \"\"\"\n",
    "\n",
    "SELECT ?s COUNT(?o)\n",
    "FROM <https://covid-19ds.data.dice-research.org/2020-09-23>\n",
    "WHERE { \n",
    "?s a <http://ma-graph.org/class/Author> .\n",
    "?o <http://purl.org/net/nknouf/ns/bibtex#hasAuthor> ?s .\n",
    "} \n",
    "GROUP BY ?s\n",
    "ORDER BY DESC(COUNT(?o))\n",
    "LIMIT 20\n",
    "\"\"\"\n",
    "\n",
    "results = run_query(query, endpoint, as_dataframe=True, do_print=True)"
   ]
  },
  {
   "cell_type": "markdown",
   "id": "7b19f787-f39f-40c1-8a57-1b6ed42ad1a7",
   "metadata": {},
   "source": [
    "### Find the top 20 papers with the largerst number of referenced papers in the collection\n",
    "\n",
    "1. **TODO: check** the initial query below\n",
    "2. **TODO: update the query** so that it retrieves the required papers\n",
    "3. **REFLECT: are you able to locate** on an online repository/library at least one of the papers returned? Does the data checks out?"
   ]
  },
  {
   "cell_type": "code",
   "execution_count": null,
   "id": "0dba6413-8dbc-43be-b171-c33e6a858934",
   "metadata": {},
   "outputs": [],
   "source": [
    "## The following query retrieves all the references for a signle paper, you can use it as inspiration\n",
    "query = \"\"\"\n",
    "\n",
    "SELECT DISTINCT ?paper1 ?paper2   \n",
    "FROM <https://covid-19ds.data.dice-research.org/2020-09-23>\n",
    "WHERE {\n",
    "\n",
    "VALUES ?paper1 { <https://covid-19ds.data.dice-research.org/resource/pmc1065257> }\n",
    "\n",
    "?paper1 cvdo:hasBody ?body .\n",
    "?body cvdo:hasSection ?section .\n",
    "?refCont nif:referenceContext ?section .\n",
    "?refCont its:taIdentRef ?entry .\n",
    "?entry a bibtex:Entry .\n",
    "?entry owl:sameAs ?paper2 .\n",
    "?paper2 a  <http://schema.org/ScholarlyArticle> .\n",
    "\n",
    "}\n",
    "\"\"\"\n",
    "results = run_query(query, endpoint, as_dataframe=True, do_print=True)\n"
   ]
  },
  {
   "cell_type": "markdown",
   "id": "9648021c-a59b-4d7b-9691-26fdbb9a4eb5",
   "metadata": {},
   "source": [
    "### The Citation Network: loading Paper-cites->Paper subnetwork"
   ]
  },
  {
   "cell_type": "markdown",
   "id": "302d1f28-e519-4b7a-936f-a0539abbddaf",
   "metadata": {},
   "source": [
    "**In the following:**\n",
    "\n",
    "- We extract the `paper-[cites]->paper` edges\n",
    "- We build a networkx Directed Graph\n",
    "- **TODO:** check out the tutorial of networkx here: [networkx.org/.../tutorial.html](https://networkx.org/documentation/stable/tutorial.html)\n",
    "- We extract the connected components and find the size of the largest one\n",
    "- **TODO:** The full citation graph is too big to be returned... we will need a smart solution\n",
    "- **REFLECT:** Decide how to edit the query or the code to obtain a reliable (even if imprecise/incomplete) result\n",
    "- **TODO:** Analyze the graph obtained, especially focusing on the largest connected component (see below)\n",
    "\n",
    "\n",
    "\n",
    "\n",
    "\n"
   ]
  },
  {
   "cell_type": "code",
   "execution_count": null,
   "id": "c50cafa5-232f-420c-8873-1e702cb7e9e6",
   "metadata": {},
   "outputs": [],
   "source": [
    "query = \"\"\"\n",
    "\n",
    "SELECT DISTINCT ?paper1 ?paper2   \n",
    "FROM <https://covid-19ds.data.dice-research.org/2020-09-23>\n",
    "\n",
    "WHERE {\n",
    "\n",
    "?paper1 cvdo:hasBody ?body .\n",
    "?body cvdo:hasSection ?section .\n",
    "?refCont nif:referenceContext ?section .\n",
    "?refCont its:taIdentRef ?entry .\n",
    "?entry a bibtex:Entry .\n",
    "?entry owl:sameAs ?paper2 .\n",
    "?paper2 a  <http://schema.org/ScholarlyArticle> .\n",
    "\n",
    "}\n",
    "LIMIT 20000\n",
    "\n",
    "\"\"\"\n",
    "\n",
    "results = run_query(query, endpoint, as_dataframe=False, do_print=False)\n",
    "\n",
    "len(results)"
   ]
  },
  {
   "cell_type": "code",
   "execution_count": null,
   "id": "1c1597a1-444e-47ba-b051-1dce4ff63935",
   "metadata": {},
   "outputs": [],
   "source": [
    "G = nx.DiGraph()\n",
    "for binding in results:\n",
    "    p1 = binding['paper1']['value']\n",
    "    p2 = binding['paper2']['value']\n",
    "    G.add_edge(p1, p2, label='cites')\n",
    "    \n",
    "print(nx.number_weakly_connected_components(G))\n",
    "\n",
    "largest_cc = max(nx.weakly_connected_components(G), key=len)\n",
    "len(largest_cc)"
   ]
  },
  {
   "cell_type": "code",
   "execution_count": null,
   "id": "67cbc5a1-0fea-4856-887b-6ed9ad8b5b2b",
   "metadata": {},
   "outputs": [],
   "source": [
    "# NOTE: some metric requires to foucs on weakly connected components\n",
    "largest_cc = max(nx.weakly_connected_components(G), key=len)\n",
    "\n",
    "H = G.subgraph(largest_cc)\n",
    "print(nx.density(H))\n",
    "print(nx.diameter(H.to_undirected()))\n",
    "np.median(nx.degree_histogram(H))"
   ]
  },
  {
   "cell_type": "markdown",
   "id": "b4a2da99-8620-405c-b3c3-d3fb6c939a4c",
   "metadata": {},
   "source": [
    "#### Node Centrality:\n",
    "\n",
    "- **TODO: Pick two nodes with degree > 2** in the same component\n",
    "- **TODO/REFLECT: Compare** their centrality with their number of citation and authors"
   ]
  },
  {
   "cell_type": "code",
   "execution_count": null,
   "id": "8372317f-6579-445c-ad66-35accc3e8380",
   "metadata": {},
   "outputs": [],
   "source": []
  },
  {
   "cell_type": "markdown",
   "id": "c2dc2297-747d-4197-bf4e-c50de561ed25",
   "metadata": {},
   "source": [
    "## Author H-Index\n",
    "\n",
    "- **TODO: Take the largest** connected component (LCC)\n",
    "- **TODO: Find the author of a paper** in that (LCC)\n",
    "- **TODO: Compute it's H-index** based on citations in the graph\n",
    "- (**Optional**: Can you compare the author page rank  with its h-index with its centrality)"
   ]
  },
  {
   "cell_type": "code",
   "execution_count": null,
   "id": "0c4387e6-e1eb-4dc0-9fd4-1918c8c842e9",
   "metadata": {},
   "outputs": [],
   "source": []
  }
 ],
 "metadata": {
  "kernelspec": {
   "display_name": "Python 3 (ipykernel)",
   "language": "python",
   "name": "python3"
  },
  "language_info": {
   "codemirror_mode": {
    "name": "ipython",
    "version": 3
   },
   "file_extension": ".py",
   "mimetype": "text/x-python",
   "name": "python",
   "nbconvert_exporter": "python",
   "pygments_lexer": "ipython3",
   "version": "3.9.7"
  }
 },
 "nbformat": 4,
 "nbformat_minor": 5
}
