{
 "cells": [
  {
   "cell_type": "markdown",
   "id": "f8cb13a2-2ced-49b8-8f87-192037f3fb9f",
   "metadata": {},
   "source": [
    "# Day2: Graph Analysis of the Citation Graph of COVID Scientific Literature\n",
    "\n",
    "> Pestryakova, S., Vollmers, D., Sherif, M.A. et al. \n",
    "> CovidPubGraph: A FAIR Knowledge Graph of COVID-19 Publications. Sci Data 9, 389 (2022). \n",
    "> https://doi.org/10.1038/s41597-022-01298-2"
   ]
  },
  {
   "cell_type": "markdown",
   "id": "acb6477d-2757-4ce4-8882-6bf3d70258d6",
   "metadata": {},
   "source": [
    "## BY: _______________________\n",
    "\n",
    "## Scope and purpose: Compute Subgraph Frequencies\n",
    "\n",
    "This notebook assumes a basic understanding of the contents of the dataset.\n",
    "\n",
    "The dataset is distributed in RDF format and in multiple snapshot at different points in time.\n",
    "**One snapshot** of the dataset has been loaded into a SPARQL endpoint.\n",
    "\n",
    "The snapshot will be analyzed by extracting data via SPARQL queries and analyzing portions of it with libraries and tools like `networkx`."
   ]
  },
  {
   "cell_type": "markdown",
   "id": "5c52d995-b775-42e4-9a0d-ccf9f15ea667",
   "metadata": {},
   "source": [
    "## Imports and Utility Functions"
   ]
  },
  {
   "cell_type": "code",
   "execution_count": null,
   "id": "b1362169-aab2-4cf8-a2a7-83d951b025b4",
   "metadata": {},
   "outputs": [],
   "source": [
    "EDNPOINT='http://192.225.39.123:8888/sparql'"
   ]
  },
  {
   "cell_type": "code",
   "execution_count": null,
   "id": "87e33825-327d-48e8-9477-d58dd574b136",
   "metadata": {},
   "outputs": [],
   "source": [
    "import os\n",
    "import glob\n",
    "import string\n",
    "import numpy as np\n",
    "import pandas as pd\n",
    "from pandas import json_normalize\n",
    "\n",
    "import networkx as nx\n",
    "import matplotlib.pyplot as plt\n",
    "from SPARQLWrapper import SPARQLWrapper, JSON\n",
    "from SPARQLWrapper.SPARQLExceptions import EndPointInternalError\n",
    "\n",
    "\n",
    "pd.set_option('display.max_colwidth', None)\n",
    "pd.set_option('display.max_rows', None)\n",
    "pd.set_option('display.max_columns', None)\n",
    "\n",
    "endpoint = SPARQLWrapper(EDNPOINT)\n",
    "endpoint.setReturnFormat(JSON)\n",
    "endpoint.setTimeout(1200)\n",
    "endpoint.method = 'POST'\n",
    "\n",
    "\n",
    "def run_query( query, endpoint, as_dataframe=False, do_print=False):\n",
    "    # Utility function \n",
    "    \n",
    "    PREFIX= \"\"\"\n",
    "    PREFIX bibo: <http://purl.org/ontology/bibo/> \n",
    "    PREFIX bibtex: <http://purl.org/net/nknouf/ns/bibtex#> \n",
    "    PREFIX cvdo: <https://covid-19ds.data.dice-research.org/ontology/> \n",
    "    PREFIX cvdr: <https://covid-19ds.data.dice-research.org/resource/> \n",
    "    PREFIX dbo: <https://dbpedia.org/ontology/> \n",
    "    PREFIX dcterms: <http://purl.org/dc/terms/> \n",
    "    PREFIX fabio: <http://purl.org/spar/fabio/> \n",
    "    PREFIX foaf: <http://xmlns.com/foaf/0.1/> \n",
    "    PREFIX its: <http://www.w3.org/2005/11/its/rdf#> \n",
    "    PREFIX nif: <http://persistence.uni-leipzig.org/nlp2rdf/ontologies/nif-core#> \n",
    "    PREFIX owl: <http://www.w3.org/2002/07/owl#> \n",
    "    PREFIX prov: <http://www.w3.org/ns/prov#> \n",
    "    PREFIX rdfs: <http://www.w3.org/2000/01/rdf-schema#> \n",
    "    PREFIX schema: <http://schema.org/> \n",
    "    PREFIX sdo: <http://salt.semanticauthoring.org/ontologies/sdo#> \n",
    "    PREFIX swc: <http://data.semanticweb.org/ns/swc/ontology#> \n",
    "    PREFIX vcard: <http://www.w3.org/2006/vcard/ns#> \n",
    "    PREFIX xsd: <http://www.w3.org/2001/XMLSchema#> \n",
    "    \n",
    "    \"\"\"\n",
    "    \n",
    "    try:\n",
    "        endpoint.setQuery(PREFIX+query)\n",
    "        results = endpoint.query().convert()\n",
    "        results = results['results']\n",
    "        if len(results['bindings']) <= 0:\n",
    "            print(\"Empty resultset\")\n",
    "            return None\n",
    "\n",
    "        if not as_dataframe:\n",
    "            if do_print:\n",
    "                for binding in results['bindings']:    \n",
    "                    print(\"; \".join([var+\": \"+ binding[var]['value']  for var in binding.keys()  ]))\n",
    "            return results['bindings']\n",
    "\n",
    "        else:\n",
    "            pdata = json_normalize(results['bindings'])\n",
    "            if do_print:\n",
    "                display(pdata)\n",
    "            return pdata\n",
    "    except EndPointInternalError  as e :\n",
    "        print(\"Could not complete request!\")\n",
    "        return None\n",
    "\n",
    "print(\"ready!\")"
   ]
  },
  {
   "cell_type": "markdown",
   "id": "849be70f-d6fd-4513-8915-af110e392b97",
   "metadata": {},
   "source": [
    "## Available snapshots\n",
    "\n",
    "```\n",
    "https://covid-19ds.data.dice-research.org/2020-12-07\n",
    "https://covid-19ds.data.dice-research.org/2021-03-11\n",
    "https://covid-19ds.data.dice-research.org/2021-11-14\n",
    "```"
   ]
  },
  {
   "cell_type": "code",
   "execution_count": null,
   "id": "855ecc50-50ca-4418-a1ca-883995384c1c",
   "metadata": {
    "tags": []
   },
   "outputs": [],
   "source": [
    "# Test query to make sure connection works\n",
    "\n",
    "query = \"\"\"\n",
    "\n",
    "SELECT (COUNT(*) as ?numTriples)\n",
    "FROM <https://covid-19ds.data.dice-research.org/2021-11-14>\n",
    "WHERE { \n",
    "?s ?p ?o .\n",
    "} \n",
    "\n",
    "\"\"\"\n",
    "\n",
    "results = run_query(query, endpoint, as_dataframe=False, do_print=True)"
   ]
  },
  {
   "cell_type": "markdown",
   "id": "9355fef3-83ea-42f7-875c-b136e108915b",
   "metadata": {},
   "source": [
    "## Citation Graph analysis by Journal\n",
    "\n",
    "### Extract a labelled graph for publications and their citations\n",
    "\n",
    " 1. Use a SPARQL query to extract simple connections across papers. Here we use predicates as edge labels and journal name (not node URIs/IDs) as node labels! The graph is built in networkx.\n",
    "\n",
    " 2. **REFLECT:** Do you understand all steps of the process? Add comments to the main parts of the code"
   ]
  },
  {
   "cell_type": "code",
   "execution_count": null,
   "id": "0dba6413-8dbc-43be-b171-c33e6a858934",
   "metadata": {},
   "outputs": [],
   "source": [
    "## The following query retrieves all the references for a single paper, you can use it as inspiration\n",
    "query = \"\"\"\n",
    "\n",
    "SELECT ?paper1 ?paper2 ?journal1 ?journal2   \n",
    "FROM <https://covid-19ds.data.dice-research.org/2021-11-14>\n",
    "WHERE {\n",
    "\n",
    "?paper1 cvdo:hasBody ?body .\n",
    "?paper1 bibtex:hasJournal ?journal1 .\n",
    "?body cvdo:hasSection ?section .\n",
    "?refCont nif:referenceContext ?section .\n",
    "?refCont its:taIdentRef ?entry .\n",
    "?entry a bibtex:Entry .\n",
    "?entry owl:sameAs ?paper2 .\n",
    "?paper2 a  <http://schema.org/ScholarlyArticle> .\n",
    "?paper2 bibtex:hasJournal ?journal2 .\n",
    "\n",
    "}\n",
    "\"\"\"\n",
    "results = run_query(query, endpoint, as_dataframe=False, do_print=False)\n",
    "\n",
    "\n",
    "CitGraph = nx.DiGraph()\n",
    "\n",
    "node_journals = {}\n",
    "edges = set()\n",
    "\n",
    "for binding in results:\n",
    "    p1 = binding['paper1']['value'].replace('https://covid-19ds.data.dice-research.org/resource/', 'res:')\n",
    "    j1 = binding['journal1']['value'].replace('https://covid-19ds.data.dice-research.org/resource/', 'res:')\n",
    "    p2 = binding['paper2']['value'].replace('https://covid-19ds.data.dice-research.org/resource/', 'res:')\n",
    "    j2 = binding['journal1']['value'].replace('https://covid-19ds.data.dice-research.org/resource/', 'res:')\n",
    "    node_journals[p1]= j1\n",
    "    node_journals[p2]= j2\n",
    "\n",
    "    edges.add((p1, 'references', p2))\n",
    "\n",
    "for n in node_journals.keys():\n",
    "    # simplify node labels -- note this method is a bit naive\n",
    "    node_journals[n] =  node_journals[n].encode('ascii', 'replace').decode().replace(' ','')[0:7]    \n",
    "\n",
    "for n, t in node_journals.items():\n",
    "    CitGraph.add_node(n, label=t)\n",
    "    \n",
    "for e in edges:            \n",
    "    CitGraph.add_edge(e[0], e[2], label=e[1])\n",
    "    \n",
    "print(len(CitGraph))"
   ]
  },
  {
   "cell_type": "markdown",
   "id": "d4d8600f-aa03-4262-8037-12abb0b151aa",
   "metadata": {},
   "source": [
    "### Label frequency analysis\n",
    "\n",
    "1. **TODO** How frequent is each node label? This part of the code is missing...\n",
    "\n",
    "2. **REFLECT** How frequent is each pair of node labels? Compare top 20 pairs with top 1 and 2 single node label frequencies. Can you identify the online webpage of the actual journal?\n",
    "\n",
    "3. **REFLECT** Add comments to the code and explain what common/uncommon behaviour can be derived by the final output"
   ]
  },
  {
   "cell_type": "code",
   "execution_count": null,
   "id": "2b1c8823-fb38-424c-a191-c8dc4f1d958e",
   "metadata": {},
   "outputs": [],
   "source": [
    "journals = set( node_journals.values())\n",
    "print(len(journals))\n",
    "\n",
    "## Add here code to compute how frequent each single node label is\n",
    "#\n",
    "# ....\n",
    "#\n",
    "###\n",
    "\n",
    "## Here computes for the pairs of labels\n",
    "pairs_frequency = {}\n",
    "\n",
    "for e in CitGraph.edges():\n",
    "    j_pair = (node_journals[e[0]], node_journals[e[1]])\n",
    "    pairs_frequency[j_pair] = pairs_frequency.get(j_pair, 0) + 1\n",
    "\n",
    "len(pairs_frequency)\n",
    "    \n",
    "pairs_frequency_list = sorted(pairs_frequency.items(), key=lambda x: x[1], reverse=True)\n",
    "pairs_frequency_list[0:15]"
   ]
  },
  {
   "cell_type": "markdown",
   "id": "65fac663-3267-4761-ac5a-274a67cb6b79",
   "metadata": {},
   "source": [
    "### Subgraph Search\n",
    "\n",
    "- **REFLECT: Toy example** See the code below, verify the output is what you expect"
   ]
  },
  {
   "cell_type": "code",
   "execution_count": null,
   "id": "e0286f84-1436-424a-bc67-d702bdc6d41f",
   "metadata": {},
   "outputs": [],
   "source": [
    "# Toy example\n",
    "\n",
    "Gt = nx.DiGraph()\n",
    "Gt.add_node('1', label='Viruses')\n",
    "Gt.add_node('2', label='Viruses')\n",
    "Gt.add_edge('1', '2', label='references')\n",
    "\n",
    "Gt.add_node('3', label='Viruses')\n",
    "Gt.add_node('4', label='Viruses')\n",
    "Gt.add_edge('1', '3', label='references')\n",
    "Gt.add_edge('3', '4', label='references')\n",
    "Gt.add_edge('4', '1', label='extends')\n",
    "\n",
    "Gt.add_node('5', label='PLoSOne')\n",
    "Gt.add_edge('5', '2', label='extends')\n",
    "Gt.add_edge('5', '3', label='extends')"
   ]
  },
  {
   "cell_type": "code",
   "execution_count": null,
   "id": "e06ce285-9b0c-4df2-9aee-e43655be21b3",
   "metadata": {},
   "outputs": [],
   "source": [
    "node_label_dict = { k: \"{}:{}\".format(k,v) for k,v in nx.get_node_attributes(Gt,\"label\").items() }\n",
    "edge_label_dict = nx.get_edge_attributes(Gt,\"label\")\n",
    "        \n",
    "pos = nx.shell_layout(Gt)\n",
    "nx.draw_networkx_nodes(Gt, pos)\n",
    "nx.draw_networkx_edges(Gt, pos)\n",
    "nx.draw_networkx_labels(Gt, pos, node_label_dict )\n",
    "_ = nx.draw_networkx_edge_labels(Gt, pos, edge_label_dict)\n"
   ]
  },
  {
   "cell_type": "code",
   "execution_count": null,
   "id": "4f31f321-b6ec-491f-aa65-3b4f9c3fb6ca",
   "metadata": {},
   "outputs": [],
   "source": [
    "# We create a graph query and check for subgraph isomorphism\n",
    "\n",
    "Q = nx.DiGraph()\n",
    "Q.add_node(10, label='Viruses')\n",
    "Q.add_node(20, label='Viruses')\n",
    "Q.add_node(30, label='PLoSOne')\n",
    "Q.add_edge(10, 20, label='references')\n",
    "Q.add_edge(30, 10, label='extends')\n",
    "\n",
    "\n",
    "GM = nx.algorithms.isomorphism.GraphMatcher(Gt,Q , node_match=nx.algorithms.isomorphism.categorical_node_match(['label'],['label','']))\n",
    "for subgraph in GM.subgraph_isomorphisms_iter():\n",
    "    print(subgraph)\n"
   ]
  },
  {
   "cell_type": "markdown",
   "id": "3d1d62eb-48bc-4805-9b1d-4b40e0fb9708",
   "metadata": {},
   "source": [
    " **REFLECT: Explain the code below and its output** what is the oputput telling us? \n",
    " \n",
    " Note: here we are querying the full CitationGraph we built"
   ]
  },
  {
   "cell_type": "code",
   "execution_count": null,
   "id": "e490f98c-1c7c-42e1-8098-b4dd5b5908bb",
   "metadata": {},
   "outputs": [],
   "source": [
    "Q = nx.DiGraph()\n",
    "Q.add_node(1, label='PLoSOne')\n",
    "Q.add_node(2, label='PLoSOne')\n",
    "Q.add_node(3, label='PLoSOne')\n",
    "Q.add_edge(1, 2, label='references')\n",
    "Q.add_edge(3, 1, label='references')\n",
    "Q.add_edge(3, 2, label='references')\n",
    "\n",
    "max_iter = 10\n",
    "GM = nx.algorithms.isomorphism.GraphMatcher(CitGraph,Q, node_match=nx.algorithms.isomorphism.categorical_node_match(['label'],['label','']))\n",
    "for subgraph in GM.subgraph_isomorphisms_iter():\n",
    "    print(subgraph)\n",
    "    max_iter-=1\n",
    "    if max_iter ==0:\n",
    "        print('stop')\n",
    "        break"
   ]
  },
  {
   "cell_type": "markdown",
   "id": "48e07fea-5e2c-4bdb-bc4f-d3619ab006a7",
   "metadata": {},
   "source": [
    "**TODO/REFLECT:** check on the slides the _all non-isomorphic, connected, directed graphltes of size 3_ Which of those we do not expect to find in our citation graph? Why? Check some of them. \n",
    "\n",
    "Note: to do that we need to drop isomorphism on node labels....\n",
    "\n",
    "Below, some more code examples\n",
    "\n",
    "**Let's focus on some connected component**"
   ]
  },
  {
   "cell_type": "code",
   "execution_count": null,
   "id": "c6031427-4141-4e5d-9b24-8c92b16df83c",
   "metadata": {},
   "outputs": [],
   "source": [
    "Gcc = sorted(nx.weakly_connected_components(CitGraph), key=len, reverse=True)\n",
    "print(len(Gcc))\n",
    "GX = CitGraph.subgraph(Gcc[1]) # 2nd connected component by size, simple to visualize\n",
    "print(len(GX))\n",
    "print(GX.edges)\n",
    "\n",
    "\n",
    "\n",
    "node_label_dict = {n:node_journals[n] for n in GX.nodes }\n",
    "#edge_label_dict = nx.get_edge_attributes(GX,\"label\")\n",
    "\n",
    "pos = nx.shell_layout(GX)\n",
    "nx.draw_networkx_nodes(GX, pos)\n",
    "nx.draw_networkx_edges(GX, pos)\n",
    "_ = nx.draw_networkx_labels(GX, pos, node_label_dict )\n",
    "#_ = nx.draw_networkx_edge_labels(GX, pos, edge_label_dict)\n"
   ]
  },
  {
   "cell_type": "code",
   "execution_count": null,
   "id": "4daae926-6a08-4b38-87f0-516a47e70786",
   "metadata": {},
   "outputs": [],
   "source": [
    "# We build a query and search in the entire graph (not only the conn. comp.)\n",
    "Q = nx.DiGraph()\n",
    "Q.add_node(1, label='SciRep')\n",
    "Q.add_node(2, label='SciRep')\n",
    "Q.add_node(3, label='PLoSOne')\n",
    "Q.add_edge(1, 2, label='references')\n",
    "Q.add_edge(1, 3, label='references')\n",
    "\n",
    "\n",
    "max_iter = 10\n",
    "GM = nx.algorithms.isomorphism.GraphMatcher(CitGraph,Q, node_match=nx.algorithms.isomorphism.categorical_node_match(['label'],['label','']))\n",
    "for subgraph in GM.subgraph_isomorphisms_iter():\n",
    "    print(subgraph)\n",
    "    max_iter-=1\n",
    "    if max_iter ==0:\n",
    "        print('stop')\n",
    "        break"
   ]
  },
  {
   "cell_type": "markdown",
   "id": "b8298136-69e2-4098-b5ce-d72eaa9924da",
   "metadata": {},
   "source": [
    "### Compute Pattern Frequency\n",
    "\n",
    "- **TODO:** Pick one 4-node graphlet from the slides, **can you find a frequent pattern** of that shape? Use a valid notion of frequency"
   ]
  },
  {
   "cell_type": "markdown",
   "id": "7b433529-fc04-46a2-a5d0-076b981313fa",
   "metadata": {},
   "source": [
    "- **TODO:** Build a new graph: co-authorship graph, where two authors are connected if they wrote a paper together\n",
    "- **TODO:** Add to the co-authorship graph new additional edges (with a different label) between two auhors if they come from the same institution\n",
    "- **TODO:** Identify the largest connected component and count the triangles found in it\n",
    "- **TODO/REFLECT:** Apply hierarchical clustering using networkx `girvan_newman`, what's the largest community found?"
   ]
  },
  {
   "cell_type": "code",
   "execution_count": null,
   "id": "2250b997-2dc7-4ef2-9a95-c8146a9255e8",
   "metadata": {},
   "outputs": [],
   "source": [
    "## The following query retrieves all the authors for each paper that has a body and a journal\n",
    "query = \"\"\"\n",
    "\n",
    "SELECT DISTINCT ?paper1 ?author1  ?journal1 \n",
    "FROM <https://covid-19ds.data.dice-research.org/2020-12-07>\n",
    "WHERE {\n",
    "\n",
    "?paper1 cvdo:hasBody ?body .\n",
    "?paper1  bibtex:hasAuthor ?author1 .\n",
    "?paper1 bibtex:hasJournal ?journal1 .\n",
    "\n",
    "}\n",
    "\"\"\"\n",
    "results_authors = run_query(query, endpoint, as_dataframe=False, do_print=False)\n",
    "len(results_authors)"
   ]
  },
  {
   "cell_type": "markdown",
   "id": "b3cb046d-d44f-4559-9640-bf72f9a8fc5f",
   "metadata": {},
   "source": [
    "### Graph Sampling\n",
    "\n",
    "- **TODO Use SPARQL to query** the original graph and **produce a subsampled** version of the snapshot at`2020-12-07`\n",
    "- **TODO Estimate** two measures of your choice, \n",
    "- **TODO apply the same sampling** for the snapshot at `2021-11-14`\n",
    "- **TODO verify** if the estimate is still true\n",
    "- **REFLECT:**  can you compute the true number? What are your conclusions?"
   ]
  },
  {
   "cell_type": "code",
   "execution_count": null,
   "id": "cfc65145-b4cf-4687-8cec-5dac436eafee",
   "metadata": {},
   "outputs": [],
   "source": []
  }
 ],
 "metadata": {
  "kernelspec": {
   "display_name": "Python 3 (ipykernel)",
   "language": "python",
   "name": "python3"
  },
  "language_info": {
   "codemirror_mode": {
    "name": "ipython",
    "version": 3
   },
   "file_extension": ".py",
   "mimetype": "text/x-python",
   "name": "python",
   "nbconvert_exporter": "python",
   "pygments_lexer": "ipython3",
   "version": "3.9.7"
  }
 },
 "nbformat": 4,
 "nbformat_minor": 5
}
